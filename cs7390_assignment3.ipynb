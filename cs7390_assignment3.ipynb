{
 "cells": [
  {
   "cell_type": "code",
   "execution_count": 53,
   "id": "27b7e997-b919-48e2-83bf-840ab84d82a8",
   "metadata": {},
   "outputs": [
    {
     "data": {
      "text/plain": [
       "'/Users/sohinib/Downloads/WESAD'"
      ]
     },
     "execution_count": 53,
     "metadata": {},
     "output_type": "execute_result"
    }
   ],
   "source": [
    "import matplotlib.pyplot as plt \n",
    "import numpy as np\n",
    "import scipy.io.wavfile\n",
    "import scipy.signal\n",
    "import wave, struct\n",
    "import pandas as pd\n",
    "from scipy.signal import butter, freqz, filtfilt\n",
    "from scipy.signal import find_peaks\n",
    "from scipy.fft import rfft, fft, fftfreq, rfftfreq\n",
    "from scipy import stats\n",
    "from sklearn.metrics import confusion_matrix\n",
    "import seaborn as sns\n",
    "import glob, os\n",
    "from tensorflow import keras\n",
    "from sklearn.model_selection import train_test_split\n",
    "from sklearn.linear_model import LogisticRegression\n",
    "from sklearn.preprocessing import StandardScaler\n",
    "from sklearn.metrics import confusion_matrix\n",
    "from sklearn.metrics import accuracy_score\n",
    "from sklearn.metrics import classification_report\n",
    "from sklearn.linear_model import SGDClassifier\n",
    "from sklearn import metrics\n",
    "from sklearn.pipeline import Pipeline\n",
    "from sklearn.decomposition import PCA\n",
    "from sklearn.neighbors import KNeighborsClassifier\n",
    "from sklearn.naive_bayes import GaussianNB\n",
    "from sklearn.model_selection import KFold\n",
    "import flirt.reader.empatica\n",
    "from sklearn.model_selection import cross_val_score\n",
    "from sklearn.impute import SimpleImputer\n",
    "import os\n",
    "import warnings\n",
    "warnings.filterwarnings('ignore')\n",
    "\n",
    "os.chdir('/Users/sohinib/Downloads/WESAD')\n",
    "os.listdir(os.getcwd())\n",
    "os.getcwd()"
   ]
  },
  {
   "cell_type": "markdown",
   "id": "7bc12057-7e55-46c0-94b2-ea23e842fd48",
   "metadata": {},
   "source": [
    "## Changed the directory to the WESAD folder, to get the folders for each subject.\n",
    "\n",
    "## label: 1: stress, 0: no stress. \n",
    "\n",
    "Initiaized the variables and models."
   ]
  },
  {
   "cell_type": "code",
   "execution_count": 54,
   "id": "7be594ff-7db6-4d89-9c7d-5b8ce70f493f",
   "metadata": {},
   "outputs": [
    {
     "name": "stdout",
     "output_type": "stream",
     "text": [
      "folders: ['S5', 'S2', 'S3', 'S4', 'S17', 'S10', 'S11', 'S16', 'S6', 'S7', 'S13', 'S14', 'S15']\n"
     ]
    }
   ],
   "source": [
    "ss = StandardScaler()\n",
    "\n",
    "lr = LogisticRegression(random_state = 0)\n",
    "\n",
    "knn = KNeighborsClassifier(n_neighbors=2)\n",
    "\n",
    "cv = KFold(n_splits=10, random_state=1, shuffle=True)\n",
    "\n",
    "model = keras.Sequential(\n",
    "    [keras.layers.Dense(100,input_shape=(173,), activation='relu'),\n",
    "     keras.layers.Dense(100, activation='relu'),\n",
    "     keras.layers.Dense(1, activation='sigmoid')])\n",
    "\n",
    "model.compile(loss='binary_crossentropy', optimizer = 'adam', metrics=['accuracy'])\n",
    "\n",
    "imputer = SimpleImputer(missing_values=np.nan, strategy='mean')\n",
    "\n",
    "target_names = ['0','1']\n",
    "\n",
    "window_size = 60\n",
    "step_size = 10\n",
    "\n",
    "    \n",
    "for fname in os.listdir(os.getcwd()):\n",
    "    if (fname.endswith('.pdf') or fname.endswith('.DS_Store')):\n",
    "        f=fname\n",
    "        os.remove(os.path.join(os.getcwd(),fname))\n",
    "    \n",
    "folders = os.listdir(os.getcwd())\n",
    "print(\"folders:\",folders)\n",
    "\n",
    "test_folders = os.listdir(os.getcwd())[10:]\n",
    "train_folders = os.listdir(os.getcwd())[:10]\n"
   ]
  },
  {
   "cell_type": "code",
   "execution_count": 55,
   "id": "863b760d-968b-4d9f-a415-bc33e1bff811",
   "metadata": {},
   "outputs": [
    {
     "data": {
      "text/plain": [
       "10"
      ]
     },
     "execution_count": 55,
     "metadata": {},
     "output_type": "execute_result"
    }
   ],
   "source": [
    "len(train_folders)"
   ]
  },
  {
   "cell_type": "markdown",
   "id": "2e17abf7-5876-43f2-a626-017e9ca24cec",
   "metadata": {},
   "source": [
    "## The \"get_timestamps\" function gets the start and end timestamps of the base and tsst states from the csv file.\n",
    "### Then it converts it to seconds and gives the normalized timestamps."
   ]
  },
  {
   "cell_type": "code",
   "execution_count": 56,
   "id": "bd7b592b-a566-40f9-ad67-a266ec48acc4",
   "metadata": {},
   "outputs": [],
   "source": [
    "       \n",
    "def get_timestamps(item):\n",
    "    label_file = pd.read_csv(os.getcwd()+\"/\"+item+\"/\"+item+\"_quest.csv\",sep=\";\")\n",
    "    # [0] = minutes; [1] = seconds\n",
    "    base_start = label_file.iloc[1,1].split(\".\")\n",
    "    base_end = label_file.iloc[2,1].split(\".\")\n",
    "    tsst_start = label_file.iloc[1,2].split(\".\")\n",
    "    tsst_end = label_file.iloc[2,2].split(\".\")\n",
    "    \n",
    "    if(len(base_start)>1):\n",
    "        base_start_normalized = int(base_start[0])*60 + int(base_start[1])\n",
    "    else:\n",
    "        base_start_normalized = int(base_start[0])*60\n",
    "\n",
    "    if(len(base_end)>1):\n",
    "        base_end_normalized = int(base_end[0])*60 + int(base_end[1])\n",
    "    else:\n",
    "        base_end_normalized = int(base_end[0])*60\n",
    "\n",
    "    if(len(tsst_start)>1):\n",
    "        tsst_start_normalized = int(tsst_start[0])*60 + int(tsst_start[1])\n",
    "    else:\n",
    "        tsst_start_normalized = int(tsst_start[0])*60\n",
    "\n",
    "    if(len(tsst_end)>1):\n",
    "        tsst_end_normalized = int(tsst_end[0])*60 + int(tsst_end[1])\n",
    "    else:\n",
    "        tsst_end_normalized = int(tsst_end[0])*60\n",
    "        \n",
    "    return base_start_normalized,base_end_normalized,tsst_start_normalized,tsst_end_normalized\n"
   ]
  },
  {
   "cell_type": "markdown",
   "id": "f74094bb-f51c-49a2-93cf-4a358b8bfb25",
   "metadata": {},
   "source": [
    "## The \"create_dataset\" function opens each user's folders and gets the hrv, acc and eda features form the zip file.\n",
    "### Then \"normalized_time\" (labels the dataset to 0 and 1, drops the rest)and \"user\" (to specify each user's data) column get added.\n",
    "### Returns x and y datasets."
   ]
  },
  {
   "cell_type": "code",
   "execution_count": 57,
   "id": "d38448c5-0cc3-467c-a336-5c3336ee8f96",
   "metadata": {},
   "outputs": [],
   "source": [
    "def create_dataset(folders=folders):\n",
    "\n",
    "    data = pd.DataFrame()\n",
    "#     train_data = pd.DataFrame()\n",
    "    x = pd.DataFrame()\n",
    "    y = pd.DataFrame()\n",
    "\n",
    "    for item in folders:\n",
    "        b_s,b_e,t_s,t_e = get_timestamps(item)\n",
    "        features = flirt.simple.get_features_for_empatica_archive(os.getcwd()+\"/\"+item+\"/\"+item+\"_E4_Data.zip\", window_size, step_size, hrv_features=True, eda_features=True, acc_features=True)\n",
    "        features[\"normalized_time\"] = features.index.second + features.index.minute*60 + features.index.hour*60*60\n",
    "    \n",
    "        b_start = features[\"normalized_time\"][0] + b_s\n",
    "        b_end = features[\"normalized_time\"][0] + b_e\n",
    "        t_start = features[\"normalized_time\"][0] + t_s\n",
    "        t_end= features[\"normalized_time\"][0] + t_e\n",
    "    \n",
    "        features[\"label\"] = 2\n",
    "        \n",
    "        b = features.loc[(features[\"normalized_time\"]>=b_start) & (features[\"normalized_time\"]<=b_end)][\"label\"].replace(2,0)\n",
    "        t = features.loc[(features[\"normalized_time\"]>=t_start) & (features[\"normalized_time\"]<=t_end)][\"label\"].replace(2,1)\n",
    "        \n",
    "        features.update(b)\n",
    "        features.update(t)\n",
    "                \n",
    "        features = features[features.label!=2]\n",
    "        features[\"user\"] = item\n",
    "        \n",
    "        data = pd.concat([data,features],axis=0)\n",
    "        \n",
    "        \n",
    "    y = data[[\"label\",\"user\"]]\n",
    "    data.drop([\"label\",\"normalized_time\"],axis=1,inplace=True)\n",
    "    x=data\n",
    "        \n",
    "    return x,y"
   ]
  },
  {
   "cell_type": "markdown",
   "id": "65f3c629-0992-464f-b3a5-798daacd0fec",
   "metadata": {},
   "source": [
    "## The \"clean_data\" function converts nan values to num, fills na with mean and uses SimpleImputer to fill np.nan with mean."
   ]
  },
  {
   "cell_type": "code",
   "execution_count": 58,
   "id": "55a50977-6135-4b64-81d7-b6a59e70eee3",
   "metadata": {},
   "outputs": [],
   "source": [
    "def clean_data(x,y):\n",
    "\n",
    "    x_user = x.user\n",
    "    x_user = x_user.reset_index()\n",
    "    x_user.drop(\"index\",axis=1,inplace=True)\n",
    "    \n",
    "    x.drop(\"user\",inplace=True,axis=1)\n",
    "    x = np.nan_to_num(x)\n",
    "    x = pd.DataFrame(x)\n",
    "\n",
    "    x = x.fillna(x.mean())\n",
    "    x = pd.DataFrame(x)\n",
    "    x = imputer.fit_transform(x)\n",
    "\n",
    "    x_clean = pd.DataFrame(x)\n",
    "    x_clean[\"user\"] = x_user\n",
    "    \n",
    "    y_user = y.user\n",
    "    y_user = y_user.reset_index()\n",
    "    y_user.drop(\"index\",axis=1,inplace=True)\n",
    "    \n",
    "    y.drop(\"user\",inplace=True,axis=1)\n",
    "    y = np.nan_to_num(y)\n",
    "    y = pd.DataFrame(y)\n",
    "\n",
    "    y = y.fillna(y.mean())\n",
    "\n",
    "    y_clean = pd.DataFrame(y)\n",
    "    y_clean[\"user\"] = y_user\n",
    "    \n",
    "    return x_clean,y_clean"
   ]
  },
  {
   "cell_type": "markdown",
   "id": "06521f3a-64d6-4291-94b0-9204a49b2602",
   "metadata": {},
   "source": [
    "## The \"leave_one_subject_cross_val\" function returns the cross validation scores for each user.\n",
    "### Using pipeline to scale the dataset first then put it through logistic regression.\n",
    "### Returns a DataFrame consisting of the cross-val score leaving one subject out each time as the test data."
   ]
  },
  {
   "cell_type": "code",
   "execution_count": 59,
   "id": "d29c579a-ab23-45d3-938d-10e6bad53c5c",
   "metadata": {},
   "outputs": [],
   "source": [
    "def leave_one_subject_cross_val(x_clean,y_clean,folders=folders):\n",
    "\n",
    "    pipe = Pipeline([('scaler', ss), (\"logistic\", lr)])\n",
    "    score_array = []\n",
    "    for name in folders:\n",
    "\n",
    "        x_test_user  = x_clean[x_clean.user==name]\n",
    "        x_test_user.drop(\"user\",inplace=True,axis=1)\n",
    "        y_test_user = y_clean[y_clean.user==name]\n",
    "        y_test_user.drop(\"user\",inplace=True,axis=1)\n",
    "        x_train_user  = x_clean[x_clean.user!=name]\n",
    "        x_train_user.drop(\"user\",inplace=True,axis=1)\n",
    "        y_train_user = y_clean[y_clean.user!=name]\n",
    "        y_train_user.drop(\"user\",inplace=True,axis=1)\n",
    "        pipe.fit(x_train_user,y_train_user)\n",
    "        score = pipe.score(x_test_user,y_test_user)\n",
    "        \n",
    "        score_array.append([name,score]) \n",
    "\n",
    "    return pd.DataFrame(score_array)\n"
   ]
  },
  {
   "cell_type": "markdown",
   "id": "9f8f1c64-586a-473c-8124-c549fa118d9c",
   "metadata": {},
   "source": [
    "## The \"create_train_test\" function creates training (first 10 users in the WESAD folder) and testing (rest 3 users) data.\n",
    "### Concatenates the different user data and drops the user column, as no longer needed.\n",
    "### Returns x_train,x_test,y_train,y_test."
   ]
  },
  {
   "cell_type": "code",
   "execution_count": 60,
   "id": "7ba6c884-8e4c-4e83-a925-5a389aef1da3",
   "metadata": {},
   "outputs": [],
   "source": [
    "def create_train_test(x_clean,y_clean,train_folders=train_folders,test_folders=test_folders):\n",
    "    x_train = pd.DataFrame()\n",
    "    x_test = pd.DataFrame()\n",
    "    y_train = pd.DataFrame()\n",
    "    y_test = pd.DataFrame()\n",
    "    data_x = pd.DataFrame()\n",
    "    data_y = pd.DataFrame()\n",
    "\n",
    "    for item in train_folders:\n",
    "        data_y = y_clean[y_clean.user==item]\n",
    "        data_x = x_clean[x_clean.user==item]\n",
    "\n",
    "        y_train = pd.concat([y_train,data_y])\n",
    "        x_train = pd.concat([x_train,data_x],axis=0)\n",
    "        \n",
    "        x_train.drop(\"user\",axis=1,inplace=True)\n",
    "        y_train.drop(\"user\",axis=1,inplace=True)\n",
    "        \n",
    "    for item in test_folders:\n",
    "        data_y = y_clean[y_clean.user==item]\n",
    "        data_x = x_clean[x_clean.user==item]\n",
    "\n",
    "        y_test = pd.concat([y_test,data_y])\n",
    "        x_test = pd.concat([x_test,data_x],axis=0)\n",
    "    \n",
    "        x_test.drop(\"user\",axis=1,inplace=True)\n",
    "        y_test.drop(\"user\",axis=1,inplace=True)\n",
    "        \n",
    "        return x_train,x_test,y_train,y_test"
   ]
  },
  {
   "cell_type": "code",
   "execution_count": null,
   "id": "af471544-b998-4d17-b96e-3198c59c5c80",
   "metadata": {},
   "outputs": [],
   "source": []
  },
  {
   "cell_type": "markdown",
   "id": "49abe27f-c397-49e6-9d51-e9ed13366db4",
   "metadata": {},
   "source": [
    "## Getting x & y."
   ]
  },
  {
   "cell_type": "code",
   "execution_count": 61,
   "id": "995e55bf-ad61-4b18-9705-507f642b1f37",
   "metadata": {},
   "outputs": [
    {
     "name": "stderr",
     "output_type": "stream",
     "text": [
      "HRV features: 100%|██████████| 699/699 [00:36<00:00, 19.23it/s]\n"
     ]
    },
    {
     "data": {
      "application/vnd.jupyter.widget-view+json": {
       "model_id": "a1da40d0b1204826b5497d30de2cbb8f",
       "version_major": 2,
       "version_minor": 0
      },
      "text/plain": [
       "EDA features:   0%|          | 0/756 [00:00<?, ?it/s]"
      ]
     },
     "metadata": {},
     "output_type": "display_data"
    },
    {
     "data": {
      "application/vnd.jupyter.widget-view+json": {
       "model_id": "9b0324ba17074d3094f732d41d37d0cc",
       "version_major": 2,
       "version_minor": 0
      },
      "text/plain": [
       "ACC features:   0%|          | 0/756 [00:00<?, ?it/s]"
      ]
     },
     "metadata": {},
     "output_type": "display_data"
    },
    {
     "name": "stderr",
     "output_type": "stream",
     "text": [
      "HRV features: 100%|██████████| 779/779 [00:01<00:00, 628.07it/s]\n"
     ]
    },
    {
     "data": {
      "application/vnd.jupyter.widget-view+json": {
       "model_id": "4f0a85db2c024dd7a37250938f08c229",
       "version_major": 2,
       "version_minor": 0
      },
      "text/plain": [
       "EDA features:   0%|          | 0/788 [00:00<?, ?it/s]"
      ]
     },
     "metadata": {},
     "output_type": "display_data"
    },
    {
     "data": {
      "application/vnd.jupyter.widget-view+json": {
       "model_id": "3a7fc59dbc064d3981f07a39edb0349c",
       "version_major": 2,
       "version_minor": 0
      },
      "text/plain": [
       "ACC features:   0%|          | 0/788 [00:00<?, ?it/s]"
      ]
     },
     "metadata": {},
     "output_type": "display_data"
    },
    {
     "name": "stderr",
     "output_type": "stream",
     "text": [
      "HRV features: 100%|██████████| 748/748 [00:00<00:00, 1296.18it/s]\n"
     ]
    },
    {
     "data": {
      "application/vnd.jupyter.widget-view+json": {
       "model_id": "a6f2299766934cc7ab3808811b3052d2",
       "version_major": 2,
       "version_minor": 0
      },
      "text/plain": [
       "EDA features:   0%|          | 0/773 [00:00<?, ?it/s]"
      ]
     },
     "metadata": {},
     "output_type": "display_data"
    },
    {
     "data": {
      "application/vnd.jupyter.widget-view+json": {
       "model_id": "893c02240db44b409161e7e09ee62881",
       "version_major": 2,
       "version_minor": 0
      },
      "text/plain": [
       "ACC features:   0%|          | 0/773 [00:00<?, ?it/s]"
      ]
     },
     "metadata": {},
     "output_type": "display_data"
    },
    {
     "name": "stderr",
     "output_type": "stream",
     "text": [
      "HRV features: 100%|██████████| 778/778 [00:01<00:00, 756.57it/s]\n"
     ]
    },
    {
     "data": {
      "application/vnd.jupyter.widget-view+json": {
       "model_id": "a4584a87061642f496aa6510d3db5bc2",
       "version_major": 2,
       "version_minor": 0
      },
      "text/plain": [
       "EDA features:   0%|          | 0/800 [00:00<?, ?it/s]"
      ]
     },
     "metadata": {},
     "output_type": "display_data"
    },
    {
     "data": {
      "application/vnd.jupyter.widget-view+json": {
       "model_id": "d0612d2856f74692b2206239896ab0ec",
       "version_major": 2,
       "version_minor": 0
      },
      "text/plain": [
       "ACC features:   0%|          | 0/800 [00:00<?, ?it/s]"
      ]
     },
     "metadata": {},
     "output_type": "display_data"
    },
    {
     "name": "stderr",
     "output_type": "stream",
     "text": [
      "HRV features: 100%|██████████| 710/710 [00:01<00:00, 669.73it/s]\n"
     ]
    },
    {
     "data": {
      "application/vnd.jupyter.widget-view+json": {
       "model_id": "f4aabe197d084bcbaa647b36003554c9",
       "version_major": 2,
       "version_minor": 0
      },
      "text/plain": [
       "EDA features:   0%|          | 0/724 [00:00<?, ?it/s]"
      ]
     },
     "metadata": {},
     "output_type": "display_data"
    },
    {
     "data": {
      "application/vnd.jupyter.widget-view+json": {
       "model_id": "8de08590fc2748c8ac460af0c47700c5",
       "version_major": 2,
       "version_minor": 0
      },
      "text/plain": [
       "ACC features:   0%|          | 0/724 [00:00<?, ?it/s]"
      ]
     },
     "metadata": {},
     "output_type": "display_data"
    },
    {
     "name": "stderr",
     "output_type": "stream",
     "text": [
      "HRV features: 100%|██████████| 673/673 [00:01<00:00, 431.45it/s]\n"
     ]
    },
    {
     "data": {
      "application/vnd.jupyter.widget-view+json": {
       "model_id": "8ceb989501df4a39a049cf08fe8f1290",
       "version_major": 2,
       "version_minor": 0
      },
      "text/plain": [
       "EDA features:   0%|          | 0/683 [00:00<?, ?it/s]"
      ]
     },
     "metadata": {},
     "output_type": "display_data"
    },
    {
     "data": {
      "application/vnd.jupyter.widget-view+json": {
       "model_id": "9803260e3fb645caa9fcd20f31bece92",
       "version_major": 2,
       "version_minor": 0
      },
      "text/plain": [
       "ACC features:   0%|          | 0/683 [00:00<?, ?it/s]"
      ]
     },
     "metadata": {},
     "output_type": "display_data"
    },
    {
     "name": "stderr",
     "output_type": "stream",
     "text": [
      "HRV features: 100%|██████████| 629/629 [00:01<00:00, 517.54it/s]\n"
     ]
    },
    {
     "data": {
      "application/vnd.jupyter.widget-view+json": {
       "model_id": "46255a4ef15246eba73cc8e862e73d34",
       "version_major": 2,
       "version_minor": 0
      },
      "text/plain": [
       "EDA features:   0%|          | 0/647 [00:00<?, ?it/s]"
      ]
     },
     "metadata": {},
     "output_type": "display_data"
    },
    {
     "data": {
      "application/vnd.jupyter.widget-view+json": {
       "model_id": "45f693c3a0744c058c20cdafd0ae47c4",
       "version_major": 2,
       "version_minor": 0
      },
      "text/plain": [
       "ACC features:   0%|          | 0/647 [00:00<?, ?it/s]"
      ]
     },
     "metadata": {},
     "output_type": "display_data"
    },
    {
     "name": "stderr",
     "output_type": "stream",
     "text": [
      "HRV features: 100%|██████████| 703/703 [00:01<00:00, 500.23it/s]\n"
     ]
    },
    {
     "data": {
      "application/vnd.jupyter.widget-view+json": {
       "model_id": "6aad3171083f45ac9981b7afd76aa173",
       "version_major": 2,
       "version_minor": 0
      },
      "text/plain": [
       "EDA features:   0%|          | 0/711 [00:00<?, ?it/s]"
      ]
     },
     "metadata": {},
     "output_type": "display_data"
    },
    {
     "data": {
      "application/vnd.jupyter.widget-view+json": {
       "model_id": "6021694d4e6647378fd880803b0c700b",
       "version_major": 2,
       "version_minor": 0
      },
      "text/plain": [
       "ACC features:   0%|          | 0/711 [00:00<?, ?it/s]"
      ]
     },
     "metadata": {},
     "output_type": "display_data"
    },
    {
     "name": "stderr",
     "output_type": "stream",
     "text": [
      "HRV features: 100%|██████████| 809/809 [00:01<00:00, 768.34it/s]\n"
     ]
    },
    {
     "data": {
      "application/vnd.jupyter.widget-view+json": {
       "model_id": "b32be647a62544e8b56ad335cdd4321d",
       "version_major": 2,
       "version_minor": 0
      },
      "text/plain": [
       "EDA features:   0%|          | 0/833 [00:00<?, ?it/s]"
      ]
     },
     "metadata": {},
     "output_type": "display_data"
    },
    {
     "data": {
      "application/vnd.jupyter.widget-view+json": {
       "model_id": "544b29222e9d4f6995ef3e0af2eb4646",
       "version_major": 2,
       "version_minor": 0
      },
      "text/plain": [
       "ACC features:   0%|          | 0/833 [00:00<?, ?it/s]"
      ]
     },
     "metadata": {},
     "output_type": "display_data"
    },
    {
     "name": "stderr",
     "output_type": "stream",
     "text": [
      "HRV features: 100%|██████████| 641/641 [00:01<00:00, 518.37it/s]\n"
     ]
    },
    {
     "data": {
      "application/vnd.jupyter.widget-view+json": {
       "model_id": "686a00600ce047a18d86de23e50e5908",
       "version_major": 2,
       "version_minor": 0
      },
      "text/plain": [
       "EDA features:   0%|          | 0/650 [00:00<?, ?it/s]"
      ]
     },
     "metadata": {},
     "output_type": "display_data"
    },
    {
     "data": {
      "application/vnd.jupyter.widget-view+json": {
       "model_id": "618ba2b8abcb4a77b41c93c2844eeff3",
       "version_major": 2,
       "version_minor": 0
      },
      "text/plain": [
       "ACC features:   0%|          | 0/650 [00:00<?, ?it/s]"
      ]
     },
     "metadata": {},
     "output_type": "display_data"
    },
    {
     "name": "stderr",
     "output_type": "stream",
     "text": [
      "HRV features: 100%|██████████| 663/663 [00:00<00:00, 1391.85it/s]\n"
     ]
    },
    {
     "data": {
      "application/vnd.jupyter.widget-view+json": {
       "model_id": "d215346cfa134961b45fec4b827f97a2",
       "version_major": 2,
       "version_minor": 0
      },
      "text/plain": [
       "EDA features:   0%|          | 0/687 [00:00<?, ?it/s]"
      ]
     },
     "metadata": {},
     "output_type": "display_data"
    },
    {
     "data": {
      "application/vnd.jupyter.widget-view+json": {
       "model_id": "51869bb4c7dc4d6dae873014ea8a7c52",
       "version_major": 2,
       "version_minor": 0
      },
      "text/plain": [
       "ACC features:   0%|          | 0/687 [00:00<?, ?it/s]"
      ]
     },
     "metadata": {},
     "output_type": "display_data"
    },
    {
     "name": "stderr",
     "output_type": "stream",
     "text": [
      "HRV features: 100%|██████████| 691/691 [00:02<00:00, 293.78it/s]\n"
     ]
    },
    {
     "data": {
      "application/vnd.jupyter.widget-view+json": {
       "model_id": "a187f65e36e9439b93330c8daccf9781",
       "version_major": 2,
       "version_minor": 0
      },
      "text/plain": [
       "EDA features:   0%|          | 0/699 [00:00<?, ?it/s]"
      ]
     },
     "metadata": {},
     "output_type": "display_data"
    },
    {
     "data": {
      "application/vnd.jupyter.widget-view+json": {
       "model_id": "62050615131d4c3c931a7b2fbf06efcf",
       "version_major": 2,
       "version_minor": 0
      },
      "text/plain": [
       "ACC features:   0%|          | 0/699 [00:00<?, ?it/s]"
      ]
     },
     "metadata": {},
     "output_type": "display_data"
    },
    {
     "name": "stderr",
     "output_type": "stream",
     "text": [
      "HRV features: 100%|██████████| 656/656 [00:01<00:00, 387.48it/s]\n"
     ]
    },
    {
     "data": {
      "application/vnd.jupyter.widget-view+json": {
       "model_id": "c30b0dbeadb8489e9cd6cd23851a40c1",
       "version_major": 2,
       "version_minor": 0
      },
      "text/plain": [
       "EDA features:   0%|          | 0/665 [00:00<?, ?it/s]"
      ]
     },
     "metadata": {},
     "output_type": "display_data"
    },
    {
     "data": {
      "application/vnd.jupyter.widget-view+json": {
       "model_id": "214d4aedaada4bfea0f577a3109e6050",
       "version_major": 2,
       "version_minor": 0
      },
      "text/plain": [
       "ACC features:   0%|          | 0/665 [00:00<?, ?it/s]"
      ]
     },
     "metadata": {},
     "output_type": "display_data"
    }
   ],
   "source": [
    "x,y = create_dataset()"
   ]
  },
  {
   "cell_type": "code",
   "execution_count": null,
   "id": "8e38c0a8-bf82-45fe-87d6-226dfca1afb6",
   "metadata": {},
   "outputs": [],
   "source": []
  },
  {
   "cell_type": "markdown",
   "id": "ad1a1763-22b9-46aa-820b-4de007c9f7c9",
   "metadata": {},
   "source": [
    "## Getting clean datasets."
   ]
  },
  {
   "cell_type": "code",
   "execution_count": 62,
   "id": "6f6b2ab7-cf26-4919-b97e-408d0de6d596",
   "metadata": {},
   "outputs": [],
   "source": [
    "x_clean,y_clean = clean_data(x,y)"
   ]
  },
  {
   "cell_type": "code",
   "execution_count": null,
   "id": "87e92eb7-d6ab-48f0-a09c-afee19d947dd",
   "metadata": {},
   "outputs": [],
   "source": []
  },
  {
   "cell_type": "markdown",
   "id": "7afce2f9-a27b-447c-b54b-80940b65f283",
   "metadata": {},
   "source": [
    "## Leave one subject/user out cross validation scores (accuracy measure)."
   ]
  },
  {
   "cell_type": "code",
   "execution_count": 63,
   "id": "748d0ac1-9f54-41a2-a15d-79f0e948d8c2",
   "metadata": {},
   "outputs": [
    {
     "data": {
      "text/html": [
       "<div>\n",
       "<style scoped>\n",
       "    .dataframe tbody tr th:only-of-type {\n",
       "        vertical-align: middle;\n",
       "    }\n",
       "\n",
       "    .dataframe tbody tr th {\n",
       "        vertical-align: top;\n",
       "    }\n",
       "\n",
       "    .dataframe thead th {\n",
       "        text-align: right;\n",
       "    }\n",
       "</style>\n",
       "<table border=\"1\" class=\"dataframe\">\n",
       "  <thead>\n",
       "    <tr style=\"text-align: right;\">\n",
       "      <th></th>\n",
       "      <th>1</th>\n",
       "    </tr>\n",
       "    <tr>\n",
       "      <th>0</th>\n",
       "      <th></th>\n",
       "    </tr>\n",
       "  </thead>\n",
       "  <tbody>\n",
       "    <tr>\n",
       "      <th>S5</th>\n",
       "      <td>0.833333</td>\n",
       "    </tr>\n",
       "    <tr>\n",
       "      <th>S2</th>\n",
       "      <td>0.814607</td>\n",
       "    </tr>\n",
       "    <tr>\n",
       "      <th>S3</th>\n",
       "      <td>0.879121</td>\n",
       "    </tr>\n",
       "    <tr>\n",
       "      <th>S4</th>\n",
       "      <td>0.864516</td>\n",
       "    </tr>\n",
       "    <tr>\n",
       "      <th>S17</th>\n",
       "      <td>0.820988</td>\n",
       "    </tr>\n",
       "    <tr>\n",
       "      <th>S10</th>\n",
       "      <td>0.855346</td>\n",
       "    </tr>\n",
       "    <tr>\n",
       "      <th>S11</th>\n",
       "      <td>0.794737</td>\n",
       "    </tr>\n",
       "    <tr>\n",
       "      <th>S16</th>\n",
       "      <td>0.766839</td>\n",
       "    </tr>\n",
       "    <tr>\n",
       "      <th>S6</th>\n",
       "      <td>0.791444</td>\n",
       "    </tr>\n",
       "    <tr>\n",
       "      <th>S7</th>\n",
       "      <td>0.772152</td>\n",
       "    </tr>\n",
       "    <tr>\n",
       "      <th>S13</th>\n",
       "      <td>0.912500</td>\n",
       "    </tr>\n",
       "    <tr>\n",
       "      <th>S14</th>\n",
       "      <td>0.774869</td>\n",
       "    </tr>\n",
       "    <tr>\n",
       "      <th>S15</th>\n",
       "      <td>0.777070</td>\n",
       "    </tr>\n",
       "  </tbody>\n",
       "</table>\n",
       "</div>"
      ],
      "text/plain": [
       "            1\n",
       "0            \n",
       "S5   0.833333\n",
       "S2   0.814607\n",
       "S3   0.879121\n",
       "S4   0.864516\n",
       "S17  0.820988\n",
       "S10  0.855346\n",
       "S11  0.794737\n",
       "S16  0.766839\n",
       "S6   0.791444\n",
       "S7   0.772152\n",
       "S13  0.912500\n",
       "S14  0.774869\n",
       "S15  0.777070"
      ]
     },
     "execution_count": 63,
     "metadata": {},
     "output_type": "execute_result"
    }
   ],
   "source": [
    "cross_val_scores = leave_one_subject_cross_val(x_clean,y_clean,folders)\n",
    "cross_val_scores.set_index(cross_val_scores[0],inplace=True)\n",
    "cross_val_scores.drop([0],axis=1,inplace=True)\n",
    "\n",
    "cross_val_scores"
   ]
  },
  {
   "cell_type": "code",
   "execution_count": null,
   "id": "14612f0d-af17-46ba-91d5-c4f3cbbd3d3b",
   "metadata": {},
   "outputs": [],
   "source": []
  },
  {
   "cell_type": "markdown",
   "id": "2be00513-0425-463b-a9ff-613050389e0e",
   "metadata": {},
   "source": [
    "## Getting x_train,x_test,y_train,y_test."
   ]
  },
  {
   "cell_type": "code",
   "execution_count": 64,
   "id": "e247a96c-304a-45f9-ada2-5869f6500229",
   "metadata": {},
   "outputs": [],
   "source": [
    "x_train,x_test,y_train,y_test = create_train_test(x_clean,y_clean)"
   ]
  },
  {
   "cell_type": "markdown",
   "id": "6fb8ea41-d214-4dde-8617-ac84c482959e",
   "metadata": {},
   "source": [
    "## Using StandardScaler to scale the raw data for the neural network."
   ]
  },
  {
   "cell_type": "code",
   "execution_count": 65,
   "id": "b33b2dd5-8bc3-42e9-962c-329d709dd340",
   "metadata": {},
   "outputs": [],
   "source": [
    "x_train_ss = ss.fit_transform(x_train)\n",
    "x_test_ss = ss.transform(x_test)"
   ]
  },
  {
   "cell_type": "code",
   "execution_count": null,
   "id": "d481222a-d014-4d0b-a008-34212aa24bf4",
   "metadata": {},
   "outputs": [],
   "source": []
  },
  {
   "cell_type": "markdown",
   "id": "a87ad79d-2340-450e-ab52-e78bed57bbdb",
   "metadata": {},
   "source": [
    "## Neural Network Model\n",
    "#### input shape: 173\n",
    "#### 1st layer:   activation -> relu;   100 nodes\n",
    "#### 2nd layer:   activation -> relu;   100 nodes\n",
    "#### 3rd layer: activation -> sigmoid;   1\n",
    "#### loss:  binary_crossentropy, optimizer:  adam, metrics:  accuracy\n",
    "\n",
    "#### epochs: 20, batch_size: 1 "
   ]
  },
  {
   "cell_type": "code",
   "execution_count": 66,
   "id": "3c9ce588-8ce9-4f68-9f21-099a7dd94036",
   "metadata": {},
   "outputs": [
    {
     "name": "stdout",
     "output_type": "stream",
     "text": [
      "Epoch 1/20\n",
      "1726/1726 [==============================] - 5s 3ms/step - loss: 0.1835 - accuracy: 0.9311\n",
      "Epoch 2/20\n",
      "1726/1726 [==============================] - 4s 3ms/step - loss: 0.0604 - accuracy: 0.9809\n",
      "Epoch 3/20\n",
      "1726/1726 [==============================] - 6s 3ms/step - loss: 0.0270 - accuracy: 0.9913\n",
      "Epoch 4/20\n",
      "1726/1726 [==============================] - 4s 2ms/step - loss: 0.0296 - accuracy: 0.9890\n",
      "Epoch 5/20\n",
      "1726/1726 [==============================] - 4s 2ms/step - loss: 0.0140 - accuracy: 0.9965\n",
      "Epoch 6/20\n",
      "1726/1726 [==============================] - 4s 2ms/step - loss: 0.0248 - accuracy: 0.9913\n",
      "Epoch 7/20\n",
      "1726/1726 [==============================] - 4s 2ms/step - loss: 0.0284 - accuracy: 0.9948\n",
      "Epoch 8/20\n",
      "1726/1726 [==============================] - 4s 2ms/step - loss: 7.2348e-04 - accuracy: 1.0000\n",
      "Epoch 9/20\n",
      "1726/1726 [==============================] - 6s 3ms/step - loss: 0.0333 - accuracy: 0.9873\n",
      "Epoch 10/20\n",
      "1726/1726 [==============================] - 6s 4ms/step - loss: 0.0298 - accuracy: 0.9954\n",
      "Epoch 11/20\n",
      "1726/1726 [==============================] - 9s 5ms/step - loss: 0.0136 - accuracy: 0.9977\n",
      "Epoch 12/20\n",
      "1726/1726 [==============================] - 9s 5ms/step - loss: 0.0127 - accuracy: 0.9948\n",
      "Epoch 13/20\n",
      "1726/1726 [==============================] - 8s 5ms/step - loss: 1.5901e-04 - accuracy: 1.0000\n",
      "Epoch 14/20\n",
      "1726/1726 [==============================] - 4s 2ms/step - loss: 3.1630e-05 - accuracy: 1.0000\n",
      "Epoch 15/20\n",
      "1726/1726 [==============================] - 3s 2ms/step - loss: 1.2238e-05 - accuracy: 1.0000\n",
      "Epoch 16/20\n",
      "1726/1726 [==============================] - 3s 2ms/step - loss: 5.5622e-06 - accuracy: 1.0000\n",
      "Epoch 17/20\n",
      "1726/1726 [==============================] - 5s 3ms/step - loss: 2.5923e-06 - accuracy: 1.0000\n",
      "Epoch 18/20\n",
      "1726/1726 [==============================] - 5s 3ms/step - loss: 1.0064e-06 - accuracy: 1.0000\n",
      "Epoch 19/20\n",
      "1726/1726 [==============================] - 9s 5ms/step - loss: 4.3738e-07 - accuracy: 1.0000\n",
      "Epoch 20/20\n",
      "1726/1726 [==============================] - 6s 4ms/step - loss: 1.6930e-07 - accuracy: 1.0000\n"
     ]
    },
    {
     "data": {
      "text/plain": [
       "<keras.callbacks.History at 0x7fae1f738880>"
      ]
     },
     "execution_count": 66,
     "metadata": {},
     "output_type": "execute_result"
    }
   ],
   "source": [
    "model.fit(x_train_ss,y_train,epochs=20,batch_size=1) \n",
    "# BEST"
   ]
  },
  {
   "cell_type": "code",
   "execution_count": null,
   "id": "79a4168a-7298-4271-85c1-9fa8f51d21c9",
   "metadata": {},
   "outputs": [],
   "source": []
  },
  {
   "cell_type": "code",
   "execution_count": 67,
   "id": "3cd41ddc-6d4e-4794-ba25-cb748a6ad22a",
   "metadata": {},
   "outputs": [
    {
     "name": "stdout",
     "output_type": "stream",
     "text": [
      "5/5 [==============================] - 0s 2ms/step - loss: 5.5462 - accuracy: 0.8938\n"
     ]
    },
    {
     "data": {
      "text/plain": [
       "[5.546237468719482, 0.893750011920929]"
      ]
     },
     "execution_count": 67,
     "metadata": {},
     "output_type": "execute_result"
    }
   ],
   "source": [
    "model.evaluate(x_test_ss,y_test)"
   ]
  },
  {
   "cell_type": "code",
   "execution_count": 68,
   "id": "73a02180-31f6-4ec6-b51a-3a7ef9c86f3a",
   "metadata": {},
   "outputs": [],
   "source": [
    "ind = 0\n",
    "for i in model.predict(x_test_ss):\n",
    "    if i>0.5:\n",
    "        y_pred_nn[ind] = 1\n",
    "    else:\n",
    "        y_pred_nn[ind] = 0\n",
    "    ind = ind + 1 "
   ]
  },
  {
   "cell_type": "markdown",
   "id": "84c57d36-66ec-4fbd-9782-d5b202e2cc7f",
   "metadata": {},
   "source": [
    "#### The classification report is given below.\n",
    "#### Accuracy: 89%"
   ]
  },
  {
   "cell_type": "code",
   "execution_count": 69,
   "id": "b9cd5648-5055-41f9-82ad-f46c982ff11a",
   "metadata": {},
   "outputs": [
    {
     "name": "stdout",
     "output_type": "stream",
     "text": [
      "nn model\n",
      "              precision    recall  f1-score   support\n",
      "\n",
      "           0       0.88      1.00      0.93       120\n",
      "           1       1.00      0.57      0.73        40\n",
      "\n",
      "    accuracy                           0.89       160\n",
      "   macro avg       0.94      0.79      0.83       160\n",
      "weighted avg       0.91      0.89      0.88       160\n",
      "\n"
     ]
    }
   ],
   "source": [
    "print(\"nn model\")\n",
    "print(classification_report(y_test, y_pred_nn, target_names=target_names))"
   ]
  },
  {
   "cell_type": "markdown",
   "id": "6046a3db-3775-4f90-b3e3-31cca327f472",
   "metadata": {},
   "source": [
    "## Confusion Matrix NN"
   ]
  },
  {
   "cell_type": "code",
   "execution_count": 70,
   "id": "b3d7b1dd-72d2-47ae-97c8-b2a763ff7352",
   "metadata": {},
   "outputs": [
    {
     "data": {
      "text/plain": [
       "<sklearn.metrics._plot.confusion_matrix.ConfusionMatrixDisplay at 0x7fae01f6ffa0>"
      ]
     },
     "execution_count": 70,
     "metadata": {},
     "output_type": "execute_result"
    },
    {
     "data": {
      "image/png": "[encoded data removed]",
      "text/plain": [
       "<Figure size 432x288 with 2 Axes>"
      ]
     },
     "metadata": {
      "needs_background": "light"
     },
     "output_type": "display_data"
    }
   ],
   "source": [
    "cm_knn = confusion_matrix(y_test, y_pred_nn)\n",
    "cm_knn_display= metrics.ConfusionMatrixDisplay(confusion_matrix = cm_knn, display_labels = target_names)\n",
    "cm_knn_display.plot()"
   ]
  },
  {
   "cell_type": "code",
   "execution_count": null,
   "id": "024d5791-130d-4bcc-b151-9f242403449c",
   "metadata": {},
   "outputs": [],
   "source": []
  },
  {
   "cell_type": "markdown",
   "id": "39243801-5a68-45d9-bd87-ea7c30aa58e5",
   "metadata": {},
   "source": [
    "## K-NN\n",
    "#### Used a pipeline with StandardScaler.\n",
    "#### The classification report is given below.\n",
    "#### Accuracy: 85%"
   ]
  },
  {
   "cell_type": "code",
   "execution_count": 71,
   "id": "3afcfd03-cdc5-48ac-86c2-363d25d39f5e",
   "metadata": {},
   "outputs": [
    {
     "name": "stdout",
     "output_type": "stream",
     "text": [
      "Accuracy: 0.85\n",
      "k nearest neighbour\n",
      "              precision    recall  f1-score   support\n",
      "\n",
      "           0       0.83      1.00      0.91       120\n",
      "           1       1.00      0.40      0.57        40\n",
      "\n",
      "    accuracy                           0.85       160\n",
      "   macro avg       0.92      0.70      0.74       160\n",
      "weighted avg       0.88      0.85      0.82       160\n",
      "\n"
     ]
    }
   ],
   "source": [
    "pipe = Pipeline([('scaler', ss), (\"knn\", knn)])\n",
    "pipe.fit(x_train,y_train)\n",
    "y_pred_knn = pipe.predict(x_test)\n",
    "print(\"Accuracy: \" + str(pipe.score(x_test,y_test)))\n",
    "print(\"k nearest neighbour\")\n",
    "print(classification_report(y_test, y_pred_knn, target_names=target_names))"
   ]
  },
  {
   "cell_type": "code",
   "execution_count": 72,
   "id": "e7a41575-99a6-4059-b73a-21600807a94f",
   "metadata": {},
   "outputs": [],
   "source": [
    "## 10 Fold Cross Val \n"
   ]
  },
  {
   "cell_type": "code",
   "execution_count": 73,
   "id": "8a22e4cb-6579-4a95-a644-53a5de292627",
   "metadata": {},
   "outputs": [
    {
     "data": {
      "text/plain": [
       "array([0.79190751, 0.89017341, 0.83815029, 0.84393064, 0.84971098,\n",
       "       0.87861272, 0.81395349, 0.8255814 , 0.83139535, 0.86046512])"
      ]
     },
     "execution_count": 73,
     "metadata": {},
     "output_type": "execute_result"
    }
   ],
   "source": [
    "scores_knn = cross_val_score(knn, x_train, y_train, scoring='accuracy', cv=cv)\n",
    "scores_knn"
   ]
  },
  {
   "cell_type": "markdown",
   "id": "3b3d1c08-6aa5-4c58-a6b5-3edf0fceae70",
   "metadata": {},
   "source": [
    "## Confusion Matrix K-NN"
   ]
  },
  {
   "cell_type": "code",
   "execution_count": 74,
   "id": "b6a5e2e5-e48a-4b25-a4ce-9247e386af10",
   "metadata": {},
   "outputs": [
    {
     "data": {
      "text/plain": [
       "<sklearn.metrics._plot.confusion_matrix.ConfusionMatrixDisplay at 0x7fae01955a30>"
      ]
     },
     "execution_count": 74,
     "metadata": {},
     "output_type": "execute_result"
    },
    {
     "data": {
      "image/png": "[encoded data removed]",
      "text/plain": [
       "<Figure size 432x288 with 2 Axes>"
      ]
     },
     "metadata": {
      "needs_background": "light"
     },
     "output_type": "display_data"
    }
   ],
   "source": [
    "cm_knn = confusion_matrix(y_test, y_pred_knn)\n",
    "cm_knn_display= metrics.ConfusionMatrixDisplay(confusion_matrix = cm_knn, display_labels = target_names)\n",
    "cm_knn_display.plot()"
   ]
  },
  {
   "cell_type": "code",
   "execution_count": null,
   "id": "9de5a1c8-76e7-4335-b16d-cb5a9338091c",
   "metadata": {},
   "outputs": [],
   "source": []
  },
  {
   "cell_type": "code",
   "execution_count": null,
   "id": "934eb9c3-40bc-4c31-b89a-070e6e409c81",
   "metadata": {},
   "outputs": [],
   "source": []
  },
  {
   "cell_type": "markdown",
   "id": "f5b63727-9ebc-4e88-a1ea-16af166f6eb7",
   "metadata": {},
   "source": [
    "## Logistic Regression \n",
    "#### Used a pipeline with StandardScaler.\n",
    "#### The classification report is given below.\n",
    "#### Accuracy: 90%"
   ]
  },
  {
   "cell_type": "code",
   "execution_count": 75,
   "id": "d046d7e1-3010-49d5-bb00-7c3cdf7138f4",
   "metadata": {},
   "outputs": [
    {
     "name": "stdout",
     "output_type": "stream",
     "text": [
      "Accuracy: 0.9\n",
      "logistic regression\n",
      "              precision    recall  f1-score   support\n",
      "\n",
      "           0       0.88      1.00      0.94       120\n",
      "           1       1.00      0.60      0.75        40\n",
      "\n",
      "    accuracy                           0.90       160\n",
      "   macro avg       0.94      0.80      0.84       160\n",
      "weighted avg       0.91      0.90      0.89       160\n",
      "\n"
     ]
    }
   ],
   "source": [
    "pipe = Pipeline([('scaler', ss), (\"logistic\", lr)])\n",
    "pipe.fit(x_train,y_train)\n",
    "y_pred_lr = pipe.predict(x_test)\n",
    "# y_pred_lr = pd.DataFrame(y_pred_lr)\n",
    "print(\"Accuracy: \" + str(pipe.score(x_test,y_test)))\n",
    "print(\"logistic regression\")\n",
    "print(classification_report(y_test, y_pred_lr, target_names=target_names))"
   ]
  },
  {
   "cell_type": "markdown",
   "id": "f1ed7886-3637-47d8-bd59-f5e806d734dc",
   "metadata": {},
   "source": [
    "## Confusion Matrix Logistic Regression"
   ]
  },
  {
   "cell_type": "code",
   "execution_count": 76,
   "id": "7baa98fc-0d45-49c7-9c69-0299ce8e477d",
   "metadata": {},
   "outputs": [
    {
     "data": {
      "text/plain": [
       "<sklearn.metrics._plot.confusion_matrix.ConfusionMatrixDisplay at 0x7fae1cbd0c70>"
      ]
     },
     "execution_count": 76,
     "metadata": {},
     "output_type": "execute_result"
    },
    {
     "data": {
      "image/png": "[encoded data removed]",
      "text/plain": [
       "<Figure size 432x288 with 2 Axes>"
      ]
     },
     "metadata": {
      "needs_background": "light"
     },
     "output_type": "display_data"
    }
   ],
   "source": [
    "cm_lr = confusion_matrix(y_test, y_pred_lr)\n",
    "cm_lr_display= metrics.ConfusionMatrixDisplay(confusion_matrix = cm_lr, display_labels = target_names)\n",
    "cm_lr_display.plot()"
   ]
  },
  {
   "cell_type": "code",
   "execution_count": null,
   "id": "18636acb-0cb0-44e9-82fb-8978df68e5cf",
   "metadata": {},
   "outputs": [],
   "source": []
  },
  {
   "cell_type": "code",
   "execution_count": null,
   "id": "63abe319-684f-4671-b12a-7ba9921a41ce",
   "metadata": {},
   "outputs": [],
   "source": []
  }
 ],
 "metadata": {
  "kernelspec": {
   "display_name": "Python 3",
   "language": "python",
   "name": "python3"
  },
  "language_info": {
   "codemirror_mode": {
    "name": "ipython",
    "version": 3
   },
   "file_extension": ".py",
   "mimetype": "text/x-python",
   "name": "python",
   "nbconvert_exporter": "python",
   "pygments_lexer": "ipython3",
   "version": "3.8.8"
  }
 },
 "nbformat": 4,
 "nbformat_minor": 5
}
